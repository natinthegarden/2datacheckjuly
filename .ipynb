{
 "cells": [
  {
   "attachments": {},
   "cell_type": "markdown",
   "metadata": {},
   "source": [
    "adding packages"
   ]
  },
  {
   "cell_type": "code",
   "execution_count": 3,
   "metadata": {},
   "outputs": [],
   "source": [
    "import pandas as pd\n",
    "import numpy as np "
   ]
  },
  {
   "attachments": {},
   "cell_type": "markdown",
   "metadata": {},
   "source": [
    "reading in data"
   ]
  },
  {
   "cell_type": "code",
   "execution_count": 11,
   "metadata": {},
   "outputs": [],
   "source": [
    "df = pd.read_csv('/Users/natalyanaser/Desktop/Louisville_Metro_KY_-_Library_Collection_Inventory_.csv')"
   ]
  },
  {
   "attachments": {},
   "cell_type": "markdown",
   "metadata": {},
   "source": [
    "previewing"
   ]
  },
  {
   "cell_type": "code",
   "execution_count": 12,
   "metadata": {},
   "outputs": [
    {
     "name": "stdout",
     "output_type": "stream",
     "text": [
      "(1657555, 11)\n"
     ]
    },
    {
     "data": {
      "text/html": [
       "<div>\n",
       "<style scoped>\n",
       "    .dataframe tbody tr th:only-of-type {\n",
       "        vertical-align: middle;\n",
       "    }\n",
       "\n",
       "    .dataframe tbody tr th {\n",
       "        vertical-align: top;\n",
       "    }\n",
       "\n",
       "    .dataframe thead th {\n",
       "        text-align: right;\n",
       "    }\n",
       "</style>\n",
       "<table border=\"1\" class=\"dataframe\">\n",
       "  <thead>\n",
       "    <tr style=\"text-align: right;\">\n",
       "      <th></th>\n",
       "      <th>BibNum</th>\n",
       "      <th>Title</th>\n",
       "      <th>Author</th>\n",
       "      <th>ISBN</th>\n",
       "      <th>PublicationYear</th>\n",
       "      <th>ItemType</th>\n",
       "      <th>ItemCollection</th>\n",
       "      <th>ItemLocation</th>\n",
       "      <th>ItemPrice</th>\n",
       "      <th>ReportDate</th>\n",
       "      <th>ObjectId</th>\n",
       "    </tr>\n",
       "  </thead>\n",
       "  <tbody>\n",
       "    <tr>\n",
       "      <th>0</th>\n",
       "      <td>707409</td>\n",
       "      <td>Jeff Immelt and the new GE way : innovation, t...</td>\n",
       "      <td>Magee, David, 1965-</td>\n",
       "      <td>9.780072e+12</td>\n",
       "      <td>2009</td>\n",
       "      <td>Book</td>\n",
       "      <td>Adult Non-Fiction</td>\n",
       "      <td>Main</td>\n",
       "      <td>25.95</td>\n",
       "      <td>2022/07/01 04:00:00+00</td>\n",
       "      <td>1</td>\n",
       "    </tr>\n",
       "    <tr>\n",
       "      <th>1</th>\n",
       "      <td>1341361</td>\n",
       "      <td>McGraw-Hill's American idioms dictionary</td>\n",
       "      <td>Spears, Richard A.</td>\n",
       "      <td>9.780071e+12</td>\n",
       "      <td>2007</td>\n",
       "      <td>Book</td>\n",
       "      <td>ELL Collection</td>\n",
       "      <td>South Central</td>\n",
       "      <td>20.00</td>\n",
       "      <td>2022/07/01 04:00:00+00</td>\n",
       "      <td>2</td>\n",
       "    </tr>\n",
       "    <tr>\n",
       "      <th>2</th>\n",
       "      <td>707411</td>\n",
       "      <td>Robin rescues dinner : 52 weeks of quick-fix m...</td>\n",
       "      <td>Miller, Robin, 1964-</td>\n",
       "      <td>9.780307e+12</td>\n",
       "      <td>2009</td>\n",
       "      <td>Book</td>\n",
       "      <td>Adult Non-Fiction</td>\n",
       "      <td>Southwest</td>\n",
       "      <td>19.99</td>\n",
       "      <td>2022/07/01 04:00:00+00</td>\n",
       "      <td>3</td>\n",
       "    </tr>\n",
       "    <tr>\n",
       "      <th>3</th>\n",
       "      <td>1341362</td>\n",
       "      <td>McGraw-Hill's essential ESL grammar : a handbo...</td>\n",
       "      <td>Lester, Mark.</td>\n",
       "      <td>9.780071e+12</td>\n",
       "      <td>2008</td>\n",
       "      <td>Book</td>\n",
       "      <td>ELL Collection</td>\n",
       "      <td>South Central</td>\n",
       "      <td>20.00</td>\n",
       "      <td>2022/07/01 04:00:00+00</td>\n",
       "      <td>4</td>\n",
       "    </tr>\n",
       "    <tr>\n",
       "      <th>4</th>\n",
       "      <td>707411</td>\n",
       "      <td>Robin rescues dinner : 52 weeks of quick-fix m...</td>\n",
       "      <td>Miller, Robin, 1964-</td>\n",
       "      <td>9.780307e+12</td>\n",
       "      <td>2009</td>\n",
       "      <td>Book</td>\n",
       "      <td>Adult Non-Fiction</td>\n",
       "      <td>Southwest</td>\n",
       "      <td>19.99</td>\n",
       "      <td>2022/07/01 04:00:00+00</td>\n",
       "      <td>5</td>\n",
       "    </tr>\n",
       "  </tbody>\n",
       "</table>\n",
       "</div>"
      ],
      "text/plain": [
       "    BibNum                                              Title  \\\n",
       "0   707409  Jeff Immelt and the new GE way : innovation, t...   \n",
       "1  1341361           McGraw-Hill's American idioms dictionary   \n",
       "2   707411  Robin rescues dinner : 52 weeks of quick-fix m...   \n",
       "3  1341362  McGraw-Hill's essential ESL grammar : a handbo...   \n",
       "4   707411  Robin rescues dinner : 52 weeks of quick-fix m...   \n",
       "\n",
       "                 Author          ISBN  PublicationYear ItemType  \\\n",
       "0   Magee, David, 1965-  9.780072e+12             2009     Book   \n",
       "1    Spears, Richard A.  9.780071e+12             2007     Book   \n",
       "2  Miller, Robin, 1964-  9.780307e+12             2009     Book   \n",
       "3         Lester, Mark.  9.780071e+12             2008     Book   \n",
       "4  Miller, Robin, 1964-  9.780307e+12             2009     Book   \n",
       "\n",
       "      ItemCollection   ItemLocation  ItemPrice              ReportDate  \\\n",
       "0  Adult Non-Fiction           Main      25.95  2022/07/01 04:00:00+00   \n",
       "1     ELL Collection  South Central      20.00  2022/07/01 04:00:00+00   \n",
       "2  Adult Non-Fiction      Southwest      19.99  2022/07/01 04:00:00+00   \n",
       "3     ELL Collection  South Central      20.00  2022/07/01 04:00:00+00   \n",
       "4  Adult Non-Fiction      Southwest      19.99  2022/07/01 04:00:00+00   \n",
       "\n",
       "   ObjectId  \n",
       "0         1  \n",
       "1         2  \n",
       "2         3  \n",
       "3         4  \n",
       "4         5  "
      ]
     },
     "execution_count": 12,
     "metadata": {},
     "output_type": "execute_result"
    }
   ],
   "source": [
    "print(df.shape)\n",
    "df.head(5)"
   ]
  },
  {
   "attachments": {},
   "cell_type": "markdown",
   "metadata": {},
   "source": [
    "now to remove null values\n",
    "first I'll see if there are any, and then I'll drop them."
   ]
  },
  {
   "cell_type": "code",
   "execution_count": 18,
   "metadata": {},
   "outputs": [
    {
     "name": "stdout",
     "output_type": "stream",
     "text": [
      "BibNum             0\n",
      "Title              0\n",
      "Author             0\n",
      "ISBN               0\n",
      "PublicationYear    0\n",
      "ItemType           0\n",
      "ItemCollection     0\n",
      "ItemLocation       0\n",
      "ItemPrice          0\n",
      "ReportDate         0\n",
      "ObjectId           0\n",
      "dtype: int64\n"
     ]
    }
   ],
   "source": [
    "null_values = df.isnull().sum()\n",
    "\n",
    "print(null_values)"
   ]
  },
  {
   "cell_type": "code",
   "execution_count": 19,
   "metadata": {},
   "outputs": [
    {
     "name": "stdout",
     "output_type": "stream",
     "text": [
      "          BibNum                                              Title  \\\n",
      "0         707409  Jeff Immelt and the new GE way : innovation, t...   \n",
      "1        1341361           McGraw-Hill's American idioms dictionary   \n",
      "2         707411  Robin rescues dinner : 52 weeks of quick-fix m...   \n",
      "3        1341362  McGraw-Hill's essential ESL grammar : a handbo...   \n",
      "4         707411  Robin rescues dinner : 52 weeks of quick-fix m...   \n",
      "...          ...                                                ...   \n",
      "1657550  2527332     The afrominimalist's guide to living with less   \n",
      "1657551  2527332     The afrominimalist's guide to living with less   \n",
      "1657552  2527332     The afrominimalist's guide to living with less   \n",
      "1657553  2527332     The afrominimalist's guide to living with less   \n",
      "1657554  2520634  Abstract painting : the elements of visual lan...   \n",
      "\n",
      "                            Author          ISBN  PublicationYear ItemType  \\\n",
      "0              Magee, David, 1965-  9.780072e+12             2009     Book   \n",
      "1               Spears, Richard A.  9.780071e+12             2007     Book   \n",
      "2             Miller, Robin, 1964-  9.780307e+12             2009     Book   \n",
      "3                    Lester, Mark.  9.780071e+12             2008     Book   \n",
      "4             Miller, Robin, 1964-  9.780307e+12             2009     Book   \n",
      "...                            ...           ...              ...      ...   \n",
      "1657550           Platt, Christine  9.781982e+12             2022     Book   \n",
      "1657551           Platt, Christine  9.781982e+12             2022     Book   \n",
      "1657552           Platt, Christine  9.781982e+12             2022     Book   \n",
      "1657553           Platt, Christine  9.781982e+12             2022     Book   \n",
      "1657554  Davies, Jane (Ceramicist)  9.780693e+12             2017     Book   \n",
      "\n",
      "            ItemCollection             ItemLocation  ItemPrice  \\\n",
      "0        Adult Non-Fiction                     Main      25.95   \n",
      "1           ELL Collection            South Central      20.00   \n",
      "2        Adult Non-Fiction                Southwest      19.99   \n",
      "3           ELL Collection            South Central      20.00   \n",
      "4        Adult Non-Fiction                Southwest      19.99   \n",
      "...                    ...                      ...        ...   \n",
      "1657550  Adult Non-Fiction                     Main      10.02   \n",
      "1657551  Adult Non-Fiction                  Newburg      10.02   \n",
      "1657552  Adult Non-Fiction            South Central      10.02   \n",
      "1657553  Adult Non-Fiction                  Western      10.02   \n",
      "1657554  Adult Non-Fiction  Highlands - Shelby Park      24.95   \n",
      "\n",
      "                     ReportDate  ObjectId  \n",
      "0        2022/07/01 04:00:00+00         1  \n",
      "1        2022/07/01 04:00:00+00         2  \n",
      "2        2022/07/01 04:00:00+00         3  \n",
      "3        2022/07/01 04:00:00+00         4  \n",
      "4        2022/07/01 04:00:00+00         5  \n",
      "...                         ...       ...  \n",
      "1657550  2022/07/01 04:00:00+00   1657551  \n",
      "1657551  2022/07/01 04:00:00+00   1657552  \n",
      "1657552  2022/07/01 04:00:00+00   1657553  \n",
      "1657553  2022/07/01 04:00:00+00   1657554  \n",
      "1657554  2022/07/01 04:00:00+00   1657555  \n",
      "\n",
      "[1334840 rows x 11 columns]\n"
     ]
    }
   ],
   "source": [
    "df_filled = df.fillna(0)\n",
    "\n",
    "print(df_filled)"
   ]
  },
  {
   "attachments": {},
   "cell_type": "markdown",
   "metadata": {},
   "source": [
    "Originally I dropped the null values. I tried to go back to to replace with zero. (df.dropna)"
   ]
  },
  {
   "cell_type": "code",
   "execution_count": 20,
   "metadata": {},
   "outputs": [
    {
     "data": {
      "text/plain": [
       "Index(['BibNum', 'Title', 'Author', 'ISBN', 'PublicationYear', 'ItemType',\n",
       "       'ItemCollection', 'ItemLocation', 'ItemPrice', 'ReportDate',\n",
       "       'ObjectId'],\n",
       "      dtype='object')"
      ]
     },
     "execution_count": 20,
     "metadata": {},
     "output_type": "execute_result"
    }
   ],
   "source": [
    "df.columns"
   ]
  },
  {
   "cell_type": "code",
   "execution_count": 24,
   "metadata": {},
   "outputs": [
    {
     "name": "stdout",
     "output_type": "stream",
     "text": [
      "BibNum               int64\n",
      "Title               object\n",
      "Author              object\n",
      "ISBN               float64\n",
      "PublicationYear      int64\n",
      "ItemType            object\n",
      "ItemCollection      object\n",
      "ItemLocation        object\n",
      "ItemPrice          float64\n",
      "ReportDate          object\n",
      "ObjectId             int64\n",
      "dtype: object\n"
     ]
    }
   ],
   "source": [
    "column_types = df.dtypes\n",
    "print(column_types)"
   ]
  },
  {
   "attachments": {},
   "cell_type": "markdown",
   "metadata": {},
   "source": [
    "let's make ISBN a string instead of a float"
   ]
  },
  {
   "cell_type": "code",
   "execution_count": 27,
   "metadata": {},
   "outputs": [],
   "source": [
    "df['ISBN'] = df['ISBN'].astype(str)"
   ]
  },
  {
   "cell_type": "code",
   "execution_count": 28,
   "metadata": {},
   "outputs": [
    {
     "name": "stdout",
     "output_type": "stream",
     "text": [
      "BibNum               int64\n",
      "Title               object\n",
      "Author              object\n",
      "ISBN                object\n",
      "PublicationYear      int64\n",
      "ItemType            object\n",
      "ItemCollection      object\n",
      "ItemLocation        object\n",
      "ItemPrice          float64\n",
      "ReportDate          object\n",
      "ObjectId             int64\n",
      "dtype: object\n"
     ]
    }
   ],
   "source": [
    "column_types = df.dtypes\n",
    "print(column_types)"
   ]
  },
  {
   "attachments": {},
   "cell_type": "markdown",
   "metadata": {},
   "source": [
    "and with this check, we see that it worked"
   ]
  }
 ],
 "metadata": {
  "kernelspec": {
   "display_name": "myenv",
   "language": "python",
   "name": "python3"
  },
  "language_info": {
   "codemirror_mode": {
    "name": "ipython",
    "version": 3
   },
   "file_extension": ".py",
   "mimetype": "text/x-python",
   "name": "python",
   "nbconvert_exporter": "python",
   "pygments_lexer": "ipython3",
   "version": "3.11.2"
  },
  "orig_nbformat": 4
 },
 "nbformat": 4,
 "nbformat_minor": 2
}
